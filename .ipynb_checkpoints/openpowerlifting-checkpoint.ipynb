{
 "cells": [
  {
   "cell_type": "markdown",
   "metadata": {},
   "source": [
    "# Openpowerlifting dataset\n",
    "\n",
    "The latest dataset can be downloaded [here](https://www.openpowerlifting.org/data)"
   ]
  },
  {
   "cell_type": "markdown",
   "metadata": {},
   "source": [
    "## Loading data and all necessary packages"
   ]
  },
  {
   "cell_type": "code",
   "execution_count": 1,
   "metadata": {},
   "outputs": [
    {
     "name": "stderr",
     "output_type": "stream",
     "text": [
      "C:\\ProgramData\\Anaconda3\\lib\\site-packages\\IPython\\core\\interactiveshell.py:3058: DtypeWarning: Columns (36) have mixed types. Specify dtype option on import or set low_memory=False.\n",
      "  interactivity=interactivity, compiler=compiler, result=result)\n"
     ]
    },
    {
     "data": {
      "text/html": [
       "<div>\n",
       "<style scoped>\n",
       "    .dataframe tbody tr th:only-of-type {\n",
       "        vertical-align: middle;\n",
       "    }\n",
       "\n",
       "    .dataframe tbody tr th {\n",
       "        vertical-align: top;\n",
       "    }\n",
       "\n",
       "    .dataframe thead th {\n",
       "        text-align: right;\n",
       "    }\n",
       "</style>\n",
       "<table border=\"1\" class=\"dataframe\">\n",
       "  <thead>\n",
       "    <tr style=\"text-align: right;\">\n",
       "      <th></th>\n",
       "      <th>Name</th>\n",
       "      <th>Sex</th>\n",
       "      <th>Event</th>\n",
       "      <th>Equipment</th>\n",
       "      <th>Age</th>\n",
       "      <th>AgeClass</th>\n",
       "      <th>BirthYearClass</th>\n",
       "      <th>Division</th>\n",
       "      <th>BodyweightKg</th>\n",
       "      <th>WeightClassKg</th>\n",
       "      <th>...</th>\n",
       "      <th>McCulloch</th>\n",
       "      <th>Glossbrenner</th>\n",
       "      <th>IPFPoints</th>\n",
       "      <th>Tested</th>\n",
       "      <th>Country</th>\n",
       "      <th>Federation</th>\n",
       "      <th>Date</th>\n",
       "      <th>MeetCountry</th>\n",
       "      <th>MeetState</th>\n",
       "      <th>MeetName</th>\n",
       "    </tr>\n",
       "  </thead>\n",
       "  <tbody>\n",
       "    <tr>\n",
       "      <td>0</td>\n",
       "      <td>Abbie Murphy</td>\n",
       "      <td>F</td>\n",
       "      <td>SBD</td>\n",
       "      <td>Wraps</td>\n",
       "      <td>29.0</td>\n",
       "      <td>24-34</td>\n",
       "      <td>NaN</td>\n",
       "      <td>F-OR</td>\n",
       "      <td>59.8</td>\n",
       "      <td>60</td>\n",
       "      <td>...</td>\n",
       "      <td>324.16</td>\n",
       "      <td>286.42</td>\n",
       "      <td>511.15</td>\n",
       "      <td>NaN</td>\n",
       "      <td>NaN</td>\n",
       "      <td>GPC-AUS</td>\n",
       "      <td>2018-10-27</td>\n",
       "      <td>Australia</td>\n",
       "      <td>VIC</td>\n",
       "      <td>Melbourne Cup</td>\n",
       "    </tr>\n",
       "    <tr>\n",
       "      <td>1</td>\n",
       "      <td>Abbie Tuong</td>\n",
       "      <td>F</td>\n",
       "      <td>SBD</td>\n",
       "      <td>Wraps</td>\n",
       "      <td>29.0</td>\n",
       "      <td>24-34</td>\n",
       "      <td>NaN</td>\n",
       "      <td>F-OR</td>\n",
       "      <td>58.5</td>\n",
       "      <td>60</td>\n",
       "      <td>...</td>\n",
       "      <td>378.07</td>\n",
       "      <td>334.16</td>\n",
       "      <td>595.65</td>\n",
       "      <td>NaN</td>\n",
       "      <td>NaN</td>\n",
       "      <td>GPC-AUS</td>\n",
       "      <td>2018-10-27</td>\n",
       "      <td>Australia</td>\n",
       "      <td>VIC</td>\n",
       "      <td>Melbourne Cup</td>\n",
       "    </tr>\n",
       "    <tr>\n",
       "      <td>2</td>\n",
       "      <td>Ainslee Hooper</td>\n",
       "      <td>F</td>\n",
       "      <td>B</td>\n",
       "      <td>Raw</td>\n",
       "      <td>40.0</td>\n",
       "      <td>40-44</td>\n",
       "      <td>40-49</td>\n",
       "      <td>F-OR</td>\n",
       "      <td>55.4</td>\n",
       "      <td>56</td>\n",
       "      <td>...</td>\n",
       "      <td>38.56</td>\n",
       "      <td>34.12</td>\n",
       "      <td>313.97</td>\n",
       "      <td>NaN</td>\n",
       "      <td>NaN</td>\n",
       "      <td>GPC-AUS</td>\n",
       "      <td>2018-10-27</td>\n",
       "      <td>Australia</td>\n",
       "      <td>VIC</td>\n",
       "      <td>Melbourne Cup</td>\n",
       "    </tr>\n",
       "    <tr>\n",
       "      <td>3</td>\n",
       "      <td>Amy Moldenhauer</td>\n",
       "      <td>F</td>\n",
       "      <td>SBD</td>\n",
       "      <td>Wraps</td>\n",
       "      <td>23.0</td>\n",
       "      <td>20-23</td>\n",
       "      <td>NaN</td>\n",
       "      <td>F-OR</td>\n",
       "      <td>60.0</td>\n",
       "      <td>60</td>\n",
       "      <td>...</td>\n",
       "      <td>345.61</td>\n",
       "      <td>305.37</td>\n",
       "      <td>547.04</td>\n",
       "      <td>NaN</td>\n",
       "      <td>NaN</td>\n",
       "      <td>GPC-AUS</td>\n",
       "      <td>2018-10-27</td>\n",
       "      <td>Australia</td>\n",
       "      <td>VIC</td>\n",
       "      <td>Melbourne Cup</td>\n",
       "    </tr>\n",
       "    <tr>\n",
       "      <td>4</td>\n",
       "      <td>Andrea Rowan</td>\n",
       "      <td>F</td>\n",
       "      <td>SBD</td>\n",
       "      <td>Wraps</td>\n",
       "      <td>45.0</td>\n",
       "      <td>45-49</td>\n",
       "      <td>40-49</td>\n",
       "      <td>F-OR</td>\n",
       "      <td>104.0</td>\n",
       "      <td>110</td>\n",
       "      <td>...</td>\n",
       "      <td>338.91</td>\n",
       "      <td>274.56</td>\n",
       "      <td>550.08</td>\n",
       "      <td>NaN</td>\n",
       "      <td>NaN</td>\n",
       "      <td>GPC-AUS</td>\n",
       "      <td>2018-10-27</td>\n",
       "      <td>Australia</td>\n",
       "      <td>VIC</td>\n",
       "      <td>Melbourne Cup</td>\n",
       "    </tr>\n",
       "  </tbody>\n",
       "</table>\n",
       "<p>5 rows × 38 columns</p>\n",
       "</div>"
      ],
      "text/plain": [
       "              Name Sex Event Equipment   Age AgeClass BirthYearClass Division  \\\n",
       "0     Abbie Murphy   F   SBD     Wraps  29.0    24-34            NaN     F-OR   \n",
       "1      Abbie Tuong   F   SBD     Wraps  29.0    24-34            NaN     F-OR   \n",
       "2   Ainslee Hooper   F     B       Raw  40.0    40-44          40-49     F-OR   \n",
       "3  Amy Moldenhauer   F   SBD     Wraps  23.0    20-23            NaN     F-OR   \n",
       "4     Andrea Rowan   F   SBD     Wraps  45.0    45-49          40-49     F-OR   \n",
       "\n",
       "   BodyweightKg WeightClassKg  ...  McCulloch  Glossbrenner  IPFPoints  \\\n",
       "0          59.8            60  ...     324.16        286.42     511.15   \n",
       "1          58.5            60  ...     378.07        334.16     595.65   \n",
       "2          55.4            56  ...      38.56         34.12     313.97   \n",
       "3          60.0            60  ...     345.61        305.37     547.04   \n",
       "4         104.0           110  ...     338.91        274.56     550.08   \n",
       "\n",
       "   Tested  Country  Federation        Date  MeetCountry  MeetState  \\\n",
       "0     NaN      NaN     GPC-AUS  2018-10-27    Australia        VIC   \n",
       "1     NaN      NaN     GPC-AUS  2018-10-27    Australia        VIC   \n",
       "2     NaN      NaN     GPC-AUS  2018-10-27    Australia        VIC   \n",
       "3     NaN      NaN     GPC-AUS  2018-10-27    Australia        VIC   \n",
       "4     NaN      NaN     GPC-AUS  2018-10-27    Australia        VIC   \n",
       "\n",
       "        MeetName  \n",
       "0  Melbourne Cup  \n",
       "1  Melbourne Cup  \n",
       "2  Melbourne Cup  \n",
       "3  Melbourne Cup  \n",
       "4  Melbourne Cup  \n",
       "\n",
       "[5 rows x 38 columns]"
      ]
     },
     "execution_count": 1,
     "metadata": {},
     "output_type": "execute_result"
    }
   ],
   "source": [
    "%matplotlib inline\n",
    "import pandas as pd\n",
    "import numpy as np\n",
    "import math\n",
    "import zipfile\n",
    "import matplotlib.pyplot as plt\n",
    "from datetime import datetime as dt\n",
    "from sklearn.model_selection import train_test_split\n",
    "from sklearn.linear_model import LinearRegression\n",
    "from sklearn.tree import DecisionTreeRegressor  \n",
    "from sklearn.ensemble import RandomForestRegressor\n",
    "from sklearn.metrics import r2_score, mean_squared_error\n",
    "\n",
    "zf = zipfile.ZipFile('./openpowerlifting-latest.zip') \n",
    "df = pd.read_csv(zf.open('openpowerlifting-2020-01-03/openpowerlifting-2020-01-03.csv'))\n",
    "df.head()"
   ]
  },
  {
   "cell_type": "markdown",
   "metadata": {},
   "source": [
    "## Explore the data\n",
    "\n",
    "**1.** Investigate how many observations and columns are included and look at the names of the variables"
   ]
  },
  {
   "cell_type": "code",
   "execution_count": 2,
   "metadata": {},
   "outputs": [
    {
     "name": "stdout",
     "output_type": "stream",
     "text": [
      "Number of columns: 38\n",
      "Number of observations: 1731478\n",
      "\n",
      "Name of variables: ['Name', 'Sex', 'Event', 'Equipment', 'Age', 'AgeClass', 'BirthYearClass', 'Division', 'BodyweightKg', 'WeightClassKg', 'Squat1Kg', 'Squat2Kg', 'Squat3Kg', 'Squat4Kg', 'Best3SquatKg', 'Bench1Kg', 'Bench2Kg', 'Bench3Kg', 'Bench4Kg', 'Best3BenchKg', 'Deadlift1Kg', 'Deadlift2Kg', 'Deadlift3Kg', 'Deadlift4Kg', 'Best3DeadliftKg', 'TotalKg', 'Place', 'Wilks', 'McCulloch', 'Glossbrenner', 'IPFPoints', 'Tested', 'Country', 'Federation', 'Date', 'MeetCountry', 'MeetState', 'MeetName']\n"
     ]
    }
   ],
   "source": [
    "print('Number of columns:', df.shape[1])\n",
    "print('Number of observations:', df.shape[0])\n",
    "print()\n",
    "print('Name of variables:', list(df.columns))"
   ]
  },
  {
   "cell_type": "markdown",
   "metadata": {},
   "source": [
    "**2.** Investigate how many missing values are in every column"
   ]
  },
  {
   "cell_type": "code",
   "execution_count": 3,
   "metadata": {},
   "outputs": [
    {
     "name": "stdout",
     "output_type": "stream",
     "text": [
      "Number of NaNs per variable:\n",
      "Squat4Kg           1726886\n",
      "Deadlift4Kg        1719967\n",
      "Bench4Kg           1719653\n",
      "Squat3Kg           1321801\n",
      "Squat2Kg           1309647\n",
      "Squat1Kg           1304523\n",
      "Deadlift3Kg        1288338\n",
      "Deadlift2Kg        1267272\n",
      "Deadlift1Kg        1257522\n",
      "Bench3Kg           1110486\n",
      "Bench2Kg           1090647\n",
      "Bench1Kg           1082410\n",
      "Country             875505\n",
      "BirthYearClass      844867\n",
      "Age                 767714\n",
      "MeetState           600324\n",
      "AgeClass            592651\n",
      "Best3SquatKg        518854\n",
      "Tested              489626\n",
      "Best3DeadliftKg     439552\n",
      "Best3BenchKg        194547\n",
      "IPFPoints           180355\n",
      "McCulloch           142159\n",
      "Wilks               141716\n",
      "Glossbrenner        141716\n",
      "TotalKg             127008\n",
      "BodyweightKg         23239\n",
      "WeightClassKg        19257\n",
      "Division              3504\n",
      "Equipment                0\n",
      "Event                    0\n",
      "Sex                      0\n",
      "MeetName                 0\n",
      "Place                    0\n",
      "Federation               0\n",
      "Date                     0\n",
      "MeetCountry              0\n",
      "Name                     0\n",
      "dtype: int64\n"
     ]
    }
   ],
   "source": [
    "print('Number of NaNs per variable:')\n",
    "print(df.isnull().sum().sort_values(ascending=False))"
   ]
  },
  {
   "cell_type": "markdown",
   "metadata": {},
   "source": [
    "**3.** Take a look at the summary of the numeric and categorical variables"
   ]
  },
  {
   "cell_type": "code",
   "execution_count": 4,
   "metadata": {},
   "outputs": [],
   "source": [
    "# Seperate numeric and categorical variables\n",
    "num_vars = df.select_dtypes(include=['float64'])\n",
    "cat_vars = df.select_dtypes(include=['object'])"
   ]
  },
  {
   "cell_type": "code",
   "execution_count": 5,
   "metadata": {},
   "outputs": [
    {
     "data": {
      "text/html": [
       "<div>\n",
       "<style scoped>\n",
       "    .dataframe tbody tr th:only-of-type {\n",
       "        vertical-align: middle;\n",
       "    }\n",
       "\n",
       "    .dataframe tbody tr th {\n",
       "        vertical-align: top;\n",
       "    }\n",
       "\n",
       "    .dataframe thead th {\n",
       "        text-align: right;\n",
       "    }\n",
       "</style>\n",
       "<table border=\"1\" class=\"dataframe\">\n",
       "  <thead>\n",
       "    <tr style=\"text-align: right;\">\n",
       "      <th></th>\n",
       "      <th>Age</th>\n",
       "      <th>BodyweightKg</th>\n",
       "      <th>Squat1Kg</th>\n",
       "      <th>Squat2Kg</th>\n",
       "      <th>Squat3Kg</th>\n",
       "      <th>Squat4Kg</th>\n",
       "      <th>Best3SquatKg</th>\n",
       "      <th>Bench1Kg</th>\n",
       "      <th>Bench2Kg</th>\n",
       "      <th>Bench3Kg</th>\n",
       "      <th>Bench4Kg</th>\n",
       "      <th>Best3BenchKg</th>\n",
       "      <th>Deadlift1Kg</th>\n",
       "      <th>Deadlift2Kg</th>\n",
       "      <th>Deadlift3Kg</th>\n",
       "      <th>Deadlift4Kg</th>\n",
       "      <th>Best3DeadliftKg</th>\n",
       "      <th>TotalKg</th>\n",
       "      <th>Wilks</th>\n",
       "      <th>McCulloch</th>\n",
       "      <th>Glossbrenner</th>\n",
       "      <th>IPFPoints</th>\n",
       "    </tr>\n",
       "  </thead>\n",
       "  <tbody>\n",
       "    <tr>\n",
       "      <td>count</td>\n",
       "      <td>963764.000000</td>\n",
       "      <td>1.708239e+06</td>\n",
       "      <td>426955.000000</td>\n",
       "      <td>421831.000000</td>\n",
       "      <td>409677.000000</td>\n",
       "      <td>4592.000000</td>\n",
       "      <td>1.212624e+06</td>\n",
       "      <td>649068.000000</td>\n",
       "      <td>640831.000000</td>\n",
       "      <td>620992.000000</td>\n",
       "      <td>11825.000000</td>\n",
       "      <td>1.536931e+06</td>\n",
       "      <td>473956.000000</td>\n",
       "      <td>464206.000000</td>\n",
       "      <td>443140.000000</td>\n",
       "      <td>11511.000000</td>\n",
       "      <td>1.291926e+06</td>\n",
       "      <td>1.604470e+06</td>\n",
       "      <td>1.589762e+06</td>\n",
       "      <td>1.589319e+06</td>\n",
       "      <td>1.589762e+06</td>\n",
       "      <td>1.551123e+06</td>\n",
       "    </tr>\n",
       "    <tr>\n",
       "      <td>mean</td>\n",
       "      <td>31.571252</td>\n",
       "      <td>8.442253e+01</td>\n",
       "      <td>113.619890</td>\n",
       "      <td>93.175219</td>\n",
       "      <td>32.151294</td>\n",
       "      <td>66.740198</td>\n",
       "      <td>1.752811e+02</td>\n",
       "      <td>84.133631</td>\n",
       "      <td>55.412368</td>\n",
       "      <td>-18.380494</td>\n",
       "      <td>18.623114</td>\n",
       "      <td>1.183421e+02</td>\n",
       "      <td>161.378388</td>\n",
       "      <td>130.769413</td>\n",
       "      <td>15.649423</td>\n",
       "      <td>71.868716</td>\n",
       "      <td>1.896084e+02</td>\n",
       "      <td>3.917125e+02</td>\n",
       "      <td>2.837755e+02</td>\n",
       "      <td>2.957058e+02</td>\n",
       "      <td>2.674978e+02</td>\n",
       "      <td>4.899423e+02</td>\n",
       "    </tr>\n",
       "    <tr>\n",
       "      <td>std</td>\n",
       "      <td>13.258382</td>\n",
       "      <td>2.290150e+01</td>\n",
       "      <td>144.947104</td>\n",
       "      <td>170.720166</td>\n",
       "      <td>197.843494</td>\n",
       "      <td>194.274209</td>\n",
       "      <td>6.915437e+01</td>\n",
       "      <td>104.237764</td>\n",
       "      <td>129.496620</td>\n",
       "      <td>143.572115</td>\n",
       "      <td>167.179338</td>\n",
       "      <td>5.452380e+01</td>\n",
       "      <td>109.056500</td>\n",
       "      <td>160.905160</td>\n",
       "      <td>213.787778</td>\n",
       "      <td>195.183353</td>\n",
       "      <td>6.225395e+01</td>\n",
       "      <td>2.036001e+02</td>\n",
       "      <td>1.255163e+02</td>\n",
       "      <td>1.280214e+02</td>\n",
       "      <td>1.195480e+02</td>\n",
       "      <td>1.134160e+02</td>\n",
       "    </tr>\n",
       "    <tr>\n",
       "      <td>min</td>\n",
       "      <td>0.000000</td>\n",
       "      <td>1.510000e+01</td>\n",
       "      <td>-555.000000</td>\n",
       "      <td>-580.000000</td>\n",
       "      <td>-600.500000</td>\n",
       "      <td>-550.000000</td>\n",
       "      <td>-4.775000e+02</td>\n",
       "      <td>-502.500000</td>\n",
       "      <td>-507.500000</td>\n",
       "      <td>-575.000000</td>\n",
       "      <td>-500.000000</td>\n",
       "      <td>-5.225000e+02</td>\n",
       "      <td>-461.000000</td>\n",
       "      <td>-470.000000</td>\n",
       "      <td>-587.500000</td>\n",
       "      <td>-461.000000</td>\n",
       "      <td>-4.100000e+02</td>\n",
       "      <td>2.500000e+00</td>\n",
       "      <td>1.470000e+00</td>\n",
       "      <td>1.970000e+00</td>\n",
       "      <td>1.410000e+00</td>\n",
       "      <td>8.600000e-01</td>\n",
       "    </tr>\n",
       "    <tr>\n",
       "      <td>25%</td>\n",
       "      <td>21.500000</td>\n",
       "      <td>6.715000e+01</td>\n",
       "      <td>90.000000</td>\n",
       "      <td>70.000000</td>\n",
       "      <td>-162.500000</td>\n",
       "      <td>-115.000000</td>\n",
       "      <td>1.247400e+02</td>\n",
       "      <td>57.500000</td>\n",
       "      <td>-50.000000</td>\n",
       "      <td>-140.000000</td>\n",
       "      <td>-131.000000</td>\n",
       "      <td>7.500000e+01</td>\n",
       "      <td>125.000000</td>\n",
       "      <td>115.000000</td>\n",
       "      <td>-210.000000</td>\n",
       "      <td>-127.500000</td>\n",
       "      <td>1.406100e+02</td>\n",
       "      <td>2.222600e+02</td>\n",
       "      <td>1.726900e+02</td>\n",
       "      <td>1.825250e+02</td>\n",
       "      <td>1.619200e+02</td>\n",
       "      <td>4.084200e+02</td>\n",
       "    </tr>\n",
       "    <tr>\n",
       "      <td>50%</td>\n",
       "      <td>28.000000</td>\n",
       "      <td>8.210000e+01</td>\n",
       "      <td>145.000000</td>\n",
       "      <td>145.000000</td>\n",
       "      <td>110.000000</td>\n",
       "      <td>130.000000</td>\n",
       "      <td>1.700000e+02</td>\n",
       "      <td>105.000000</td>\n",
       "      <td>95.000000</td>\n",
       "      <td>-60.000000</td>\n",
       "      <td>72.500000</td>\n",
       "      <td>1.150000e+02</td>\n",
       "      <td>180.000000</td>\n",
       "      <td>177.500000</td>\n",
       "      <td>120.000000</td>\n",
       "      <td>142.500000</td>\n",
       "      <td>1.882400e+02</td>\n",
       "      <td>3.742100e+02</td>\n",
       "      <td>3.033900e+02</td>\n",
       "      <td>3.176100e+02</td>\n",
       "      <td>2.838300e+02</td>\n",
       "      <td>4.837600e+02</td>\n",
       "    </tr>\n",
       "    <tr>\n",
       "      <td>75%</td>\n",
       "      <td>40.000000</td>\n",
       "      <td>9.925000e+01</td>\n",
       "      <td>200.000000</td>\n",
       "      <td>205.000000</td>\n",
       "      <td>192.500000</td>\n",
       "      <td>200.000000</td>\n",
       "      <td>2.199900e+02</td>\n",
       "      <td>145.000000</td>\n",
       "      <td>145.000000</td>\n",
       "      <td>117.500000</td>\n",
       "      <td>155.000000</td>\n",
       "      <td>1.519500e+02</td>\n",
       "      <td>225.000000</td>\n",
       "      <td>230.000000</td>\n",
       "      <td>205.000000</td>\n",
       "      <td>207.500000</td>\n",
       "      <td>2.350000e+02</td>\n",
       "      <td>5.425000e+02</td>\n",
       "      <td>3.743800e+02</td>\n",
       "      <td>3.878900e+02</td>\n",
       "      <td>3.547800e+02</td>\n",
       "      <td>5.636500e+02</td>\n",
       "    </tr>\n",
       "    <tr>\n",
       "      <td>max</td>\n",
       "      <td>98.000000</td>\n",
       "      <td>4.840000e+02</td>\n",
       "      <td>555.000000</td>\n",
       "      <td>577.500000</td>\n",
       "      <td>560.000000</td>\n",
       "      <td>505.500000</td>\n",
       "      <td>5.775000e+02</td>\n",
       "      <td>467.500000</td>\n",
       "      <td>487.500000</td>\n",
       "      <td>478.540000</td>\n",
       "      <td>487.610000</td>\n",
       "      <td>4.885000e+02</td>\n",
       "      <td>450.000000</td>\n",
       "      <td>460.400000</td>\n",
       "      <td>457.500000</td>\n",
       "      <td>418.000000</td>\n",
       "      <td>5.850000e+02</td>\n",
       "      <td>1.407500e+03</td>\n",
       "      <td>7.933300e+02</td>\n",
       "      <td>8.608500e+02</td>\n",
       "      <td>7.569000e+02</td>\n",
       "      <td>1.245930e+03</td>\n",
       "    </tr>\n",
       "  </tbody>\n",
       "</table>\n",
       "</div>"
      ],
      "text/plain": [
       "                 Age  BodyweightKg       Squat1Kg       Squat2Kg  \\\n",
       "count  963764.000000  1.708239e+06  426955.000000  421831.000000   \n",
       "mean       31.571252  8.442253e+01     113.619890      93.175219   \n",
       "std        13.258382  2.290150e+01     144.947104     170.720166   \n",
       "min         0.000000  1.510000e+01    -555.000000    -580.000000   \n",
       "25%        21.500000  6.715000e+01      90.000000      70.000000   \n",
       "50%        28.000000  8.210000e+01     145.000000     145.000000   \n",
       "75%        40.000000  9.925000e+01     200.000000     205.000000   \n",
       "max        98.000000  4.840000e+02     555.000000     577.500000   \n",
       "\n",
       "            Squat3Kg     Squat4Kg  Best3SquatKg       Bench1Kg       Bench2Kg  \\\n",
       "count  409677.000000  4592.000000  1.212624e+06  649068.000000  640831.000000   \n",
       "mean       32.151294    66.740198  1.752811e+02      84.133631      55.412368   \n",
       "std       197.843494   194.274209  6.915437e+01     104.237764     129.496620   \n",
       "min      -600.500000  -550.000000 -4.775000e+02    -502.500000    -507.500000   \n",
       "25%      -162.500000  -115.000000  1.247400e+02      57.500000     -50.000000   \n",
       "50%       110.000000   130.000000  1.700000e+02     105.000000      95.000000   \n",
       "75%       192.500000   200.000000  2.199900e+02     145.000000     145.000000   \n",
       "max       560.000000   505.500000  5.775000e+02     467.500000     487.500000   \n",
       "\n",
       "            Bench3Kg      Bench4Kg  Best3BenchKg    Deadlift1Kg  \\\n",
       "count  620992.000000  11825.000000  1.536931e+06  473956.000000   \n",
       "mean      -18.380494     18.623114  1.183421e+02     161.378388   \n",
       "std       143.572115    167.179338  5.452380e+01     109.056500   \n",
       "min      -575.000000   -500.000000 -5.225000e+02    -461.000000   \n",
       "25%      -140.000000   -131.000000  7.500000e+01     125.000000   \n",
       "50%       -60.000000     72.500000  1.150000e+02     180.000000   \n",
       "75%       117.500000    155.000000  1.519500e+02     225.000000   \n",
       "max       478.540000    487.610000  4.885000e+02     450.000000   \n",
       "\n",
       "         Deadlift2Kg    Deadlift3Kg   Deadlift4Kg  Best3DeadliftKg  \\\n",
       "count  464206.000000  443140.000000  11511.000000     1.291926e+06   \n",
       "mean      130.769413      15.649423     71.868716     1.896084e+02   \n",
       "std       160.905160     213.787778    195.183353     6.225395e+01   \n",
       "min      -470.000000    -587.500000   -461.000000    -4.100000e+02   \n",
       "25%       115.000000    -210.000000   -127.500000     1.406100e+02   \n",
       "50%       177.500000     120.000000    142.500000     1.882400e+02   \n",
       "75%       230.000000     205.000000    207.500000     2.350000e+02   \n",
       "max       460.400000     457.500000    418.000000     5.850000e+02   \n",
       "\n",
       "            TotalKg         Wilks     McCulloch  Glossbrenner     IPFPoints  \n",
       "count  1.604470e+06  1.589762e+06  1.589319e+06  1.589762e+06  1.551123e+06  \n",
       "mean   3.917125e+02  2.837755e+02  2.957058e+02  2.674978e+02  4.899423e+02  \n",
       "std    2.036001e+02  1.255163e+02  1.280214e+02  1.195480e+02  1.134160e+02  \n",
       "min    2.500000e+00  1.470000e+00  1.970000e+00  1.410000e+00  8.600000e-01  \n",
       "25%    2.222600e+02  1.726900e+02  1.825250e+02  1.619200e+02  4.084200e+02  \n",
       "50%    3.742100e+02  3.033900e+02  3.176100e+02  2.838300e+02  4.837600e+02  \n",
       "75%    5.425000e+02  3.743800e+02  3.878900e+02  3.547800e+02  5.636500e+02  \n",
       "max    1.407500e+03  7.933300e+02  8.608500e+02  7.569000e+02  1.245930e+03  "
      ]
     },
     "execution_count": 5,
     "metadata": {},
     "output_type": "execute_result"
    }
   ],
   "source": [
    "pd.set_option('display.max_columns', 40)\n",
    "num_vars.describe()"
   ]
  },
  {
   "cell_type": "markdown",
   "metadata": {},
   "source": [
    "There are negative values in the records of the three lifts. On first sight this seems strange, but these might indicate that this attempts were failures."
   ]
  },
  {
   "cell_type": "code",
   "execution_count": 6,
   "metadata": {},
   "outputs": [
    {
     "data": {
      "text/html": [
       "<div>\n",
       "<style scoped>\n",
       "    .dataframe tbody tr th:only-of-type {\n",
       "        vertical-align: middle;\n",
       "    }\n",
       "\n",
       "    .dataframe tbody tr th {\n",
       "        vertical-align: top;\n",
       "    }\n",
       "\n",
       "    .dataframe thead th {\n",
       "        text-align: right;\n",
       "    }\n",
       "</style>\n",
       "<table border=\"1\" class=\"dataframe\">\n",
       "  <thead>\n",
       "    <tr style=\"text-align: right;\">\n",
       "      <th></th>\n",
       "      <th>Name</th>\n",
       "      <th>Sex</th>\n",
       "      <th>Event</th>\n",
       "      <th>Equipment</th>\n",
       "      <th>AgeClass</th>\n",
       "      <th>BirthYearClass</th>\n",
       "      <th>Division</th>\n",
       "      <th>WeightClassKg</th>\n",
       "      <th>Place</th>\n",
       "      <th>Tested</th>\n",
       "      <th>Country</th>\n",
       "      <th>Federation</th>\n",
       "      <th>Date</th>\n",
       "      <th>MeetCountry</th>\n",
       "      <th>MeetState</th>\n",
       "      <th>MeetName</th>\n",
       "    </tr>\n",
       "  </thead>\n",
       "  <tbody>\n",
       "    <tr>\n",
       "      <td>count</td>\n",
       "      <td>1731478</td>\n",
       "      <td>1731478</td>\n",
       "      <td>1731478</td>\n",
       "      <td>1731478</td>\n",
       "      <td>1138827</td>\n",
       "      <td>886611</td>\n",
       "      <td>1727974</td>\n",
       "      <td>1712221</td>\n",
       "      <td>1731478</td>\n",
       "      <td>1241852</td>\n",
       "      <td>855973</td>\n",
       "      <td>1731478</td>\n",
       "      <td>1731478</td>\n",
       "      <td>1731478</td>\n",
       "      <td>1131154</td>\n",
       "      <td>1731478</td>\n",
       "    </tr>\n",
       "    <tr>\n",
       "      <td>unique</td>\n",
       "      <td>487947</td>\n",
       "      <td>3</td>\n",
       "      <td>7</td>\n",
       "      <td>5</td>\n",
       "      <td>16</td>\n",
       "      <td>7</td>\n",
       "      <td>3480</td>\n",
       "      <td>299</td>\n",
       "      <td>125</td>\n",
       "      <td>1</td>\n",
       "      <td>177</td>\n",
       "      <td>268</td>\n",
       "      <td>6091</td>\n",
       "      <td>102</td>\n",
       "      <td>118</td>\n",
       "      <td>14585</td>\n",
       "    </tr>\n",
       "    <tr>\n",
       "      <td>top</td>\n",
       "      <td>Magomedamin Israpilov</td>\n",
       "      <td>M</td>\n",
       "      <td>SBD</td>\n",
       "      <td>Single-ply</td>\n",
       "      <td>24-34</td>\n",
       "      <td>24-39</td>\n",
       "      <td>Open</td>\n",
       "      <td>90</td>\n",
       "      <td>1</td>\n",
       "      <td>Yes</td>\n",
       "      <td>USA</td>\n",
       "      <td>THSPA</td>\n",
       "      <td>2017-02-18</td>\n",
       "      <td>USA</td>\n",
       "      <td>TX</td>\n",
       "      <td>World Championships</td>\n",
       "    </tr>\n",
       "    <tr>\n",
       "      <td>freq</td>\n",
       "      <td>245</td>\n",
       "      <td>1309244</td>\n",
       "      <td>1262483</td>\n",
       "      <td>894286</td>\n",
       "      <td>322656</td>\n",
       "      <td>358940</td>\n",
       "      <td>470357</td>\n",
       "      <td>138463</td>\n",
       "      <td>687165</td>\n",
       "      <td>1241852</td>\n",
       "      <td>432800</td>\n",
       "      <td>291746</td>\n",
       "      <td>7085</td>\n",
       "      <td>1015932</td>\n",
       "      <td>460668</td>\n",
       "      <td>39901</td>\n",
       "    </tr>\n",
       "  </tbody>\n",
       "</table>\n",
       "</div>"
      ],
      "text/plain": [
       "                         Name      Sex    Event   Equipment AgeClass  \\\n",
       "count                 1731478  1731478  1731478     1731478  1138827   \n",
       "unique                 487947        3        7           5       16   \n",
       "top     Magomedamin Israpilov        M      SBD  Single-ply    24-34   \n",
       "freq                      245  1309244  1262483      894286   322656   \n",
       "\n",
       "       BirthYearClass Division WeightClassKg    Place   Tested Country  \\\n",
       "count          886611  1727974       1712221  1731478  1241852  855973   \n",
       "unique              7     3480           299      125        1     177   \n",
       "top             24-39     Open            90        1      Yes     USA   \n",
       "freq           358940   470357        138463   687165  1241852  432800   \n",
       "\n",
       "       Federation        Date MeetCountry MeetState             MeetName  \n",
       "count     1731478     1731478     1731478   1131154              1731478  \n",
       "unique        268        6091         102       118                14585  \n",
       "top         THSPA  2017-02-18         USA        TX  World Championships  \n",
       "freq       291746        7085     1015932    460668                39901  "
      ]
     },
     "execution_count": 6,
     "metadata": {},
     "output_type": "execute_result"
    }
   ],
   "source": [
    "cat_vars.describe()"
   ]
  },
  {
   "cell_type": "markdown",
   "metadata": {},
   "source": [
    "**4.** Further investigations"
   ]
  },
  {
   "cell_type": "code",
   "execution_count": 7,
   "metadata": {},
   "outputs": [
    {
     "name": "stdout",
     "output_type": "stream",
     "text": [
      "Number of meets: 14585\n",
      "Number of lifters 487947\n"
     ]
    }
   ],
   "source": [
    "print('Number of meets:', len(df['MeetName'].unique()))\n",
    "print('Number of lifters', len(df['Name'].unique()))"
   ]
  },
  {
   "cell_type": "markdown",
   "metadata": {},
   "source": [
    "## Data preparation\n",
    "**1.** Anonymise the data by replacing the names with 'LifterID'"
   ]
  },
  {
   "cell_type": "code",
   "execution_count": 3,
   "metadata": {},
   "outputs": [
    {
     "data": {
      "text/html": [
       "<div>\n",
       "<style scoped>\n",
       "    .dataframe tbody tr th:only-of-type {\n",
       "        vertical-align: middle;\n",
       "    }\n",
       "\n",
       "    .dataframe tbody tr th {\n",
       "        vertical-align: top;\n",
       "    }\n",
       "\n",
       "    .dataframe thead th {\n",
       "        text-align: right;\n",
       "    }\n",
       "</style>\n",
       "<table border=\"1\" class=\"dataframe\">\n",
       "  <thead>\n",
       "    <tr style=\"text-align: right;\">\n",
       "      <th></th>\n",
       "      <th>LifterID</th>\n",
       "      <th>Sex</th>\n",
       "      <th>Event</th>\n",
       "      <th>Equipment</th>\n",
       "      <th>Age</th>\n",
       "      <th>AgeClass</th>\n",
       "      <th>BirthYearClass</th>\n",
       "      <th>Division</th>\n",
       "      <th>BodyweightKg</th>\n",
       "      <th>WeightClassKg</th>\n",
       "      <th>Squat1Kg</th>\n",
       "      <th>Squat2Kg</th>\n",
       "      <th>Squat3Kg</th>\n",
       "      <th>...</th>\n",
       "      <th>TotalKg</th>\n",
       "      <th>Place</th>\n",
       "      <th>Wilks</th>\n",
       "      <th>McCulloch</th>\n",
       "      <th>Glossbrenner</th>\n",
       "      <th>IPFPoints</th>\n",
       "      <th>Tested</th>\n",
       "      <th>Country</th>\n",
       "      <th>Federation</th>\n",
       "      <th>Date</th>\n",
       "      <th>MeetCountry</th>\n",
       "      <th>MeetState</th>\n",
       "      <th>MeetName</th>\n",
       "    </tr>\n",
       "  </thead>\n",
       "  <tbody>\n",
       "    <tr>\n",
       "      <td>0</td>\n",
       "      <td>4126</td>\n",
       "      <td>F</td>\n",
       "      <td>SBD</td>\n",
       "      <td>Wraps</td>\n",
       "      <td>29.0</td>\n",
       "      <td>24-34</td>\n",
       "      <td>NaN</td>\n",
       "      <td>F-OR</td>\n",
       "      <td>59.8</td>\n",
       "      <td>60</td>\n",
       "      <td>80.0</td>\n",
       "      <td>92.5</td>\n",
       "      <td>105.0</td>\n",
       "      <td>...</td>\n",
       "      <td>290.0</td>\n",
       "      <td>4</td>\n",
       "      <td>324.16</td>\n",
       "      <td>324.16</td>\n",
       "      <td>286.42</td>\n",
       "      <td>511.15</td>\n",
       "      <td>NaN</td>\n",
       "      <td>NaN</td>\n",
       "      <td>GPC-AUS</td>\n",
       "      <td>2018-10-27</td>\n",
       "      <td>Australia</td>\n",
       "      <td>VIC</td>\n",
       "      <td>Melbourne Cup</td>\n",
       "    </tr>\n",
       "    <tr>\n",
       "      <td>1</td>\n",
       "      <td>4140</td>\n",
       "      <td>F</td>\n",
       "      <td>SBD</td>\n",
       "      <td>Wraps</td>\n",
       "      <td>29.0</td>\n",
       "      <td>24-34</td>\n",
       "      <td>NaN</td>\n",
       "      <td>F-OR</td>\n",
       "      <td>58.5</td>\n",
       "      <td>60</td>\n",
       "      <td>100.0</td>\n",
       "      <td>110.0</td>\n",
       "      <td>120.0</td>\n",
       "      <td>...</td>\n",
       "      <td>332.5</td>\n",
       "      <td>2</td>\n",
       "      <td>378.07</td>\n",
       "      <td>378.07</td>\n",
       "      <td>334.16</td>\n",
       "      <td>595.65</td>\n",
       "      <td>NaN</td>\n",
       "      <td>NaN</td>\n",
       "      <td>GPC-AUS</td>\n",
       "      <td>2018-10-27</td>\n",
       "      <td>Australia</td>\n",
       "      <td>VIC</td>\n",
       "      <td>Melbourne Cup</td>\n",
       "    </tr>\n",
       "    <tr>\n",
       "      <td>2</td>\n",
       "      <td>8808</td>\n",
       "      <td>F</td>\n",
       "      <td>B</td>\n",
       "      <td>Raw</td>\n",
       "      <td>40.0</td>\n",
       "      <td>40-44</td>\n",
       "      <td>40-49</td>\n",
       "      <td>F-OR</td>\n",
       "      <td>55.4</td>\n",
       "      <td>56</td>\n",
       "      <td>NaN</td>\n",
       "      <td>NaN</td>\n",
       "      <td>NaN</td>\n",
       "      <td>...</td>\n",
       "      <td>32.5</td>\n",
       "      <td>1</td>\n",
       "      <td>38.56</td>\n",
       "      <td>38.56</td>\n",
       "      <td>34.12</td>\n",
       "      <td>313.97</td>\n",
       "      <td>NaN</td>\n",
       "      <td>NaN</td>\n",
       "      <td>GPC-AUS</td>\n",
       "      <td>2018-10-27</td>\n",
       "      <td>Australia</td>\n",
       "      <td>VIC</td>\n",
       "      <td>Melbourne Cup</td>\n",
       "    </tr>\n",
       "    <tr>\n",
       "      <td>3</td>\n",
       "      <td>26706</td>\n",
       "      <td>F</td>\n",
       "      <td>SBD</td>\n",
       "      <td>Wraps</td>\n",
       "      <td>23.0</td>\n",
       "      <td>20-23</td>\n",
       "      <td>NaN</td>\n",
       "      <td>F-OR</td>\n",
       "      <td>60.0</td>\n",
       "      <td>60</td>\n",
       "      <td>-105.0</td>\n",
       "      <td>-105.0</td>\n",
       "      <td>105.0</td>\n",
       "      <td>...</td>\n",
       "      <td>310.0</td>\n",
       "      <td>3</td>\n",
       "      <td>345.61</td>\n",
       "      <td>345.61</td>\n",
       "      <td>305.37</td>\n",
       "      <td>547.04</td>\n",
       "      <td>NaN</td>\n",
       "      <td>NaN</td>\n",
       "      <td>GPC-AUS</td>\n",
       "      <td>2018-10-27</td>\n",
       "      <td>Australia</td>\n",
       "      <td>VIC</td>\n",
       "      <td>Melbourne Cup</td>\n",
       "    </tr>\n",
       "    <tr>\n",
       "      <td>4</td>\n",
       "      <td>29357</td>\n",
       "      <td>F</td>\n",
       "      <td>SBD</td>\n",
       "      <td>Wraps</td>\n",
       "      <td>45.0</td>\n",
       "      <td>45-49</td>\n",
       "      <td>40-49</td>\n",
       "      <td>F-OR</td>\n",
       "      <td>104.0</td>\n",
       "      <td>110</td>\n",
       "      <td>120.0</td>\n",
       "      <td>130.0</td>\n",
       "      <td>140.0</td>\n",
       "      <td>...</td>\n",
       "      <td>390.0</td>\n",
       "      <td>3</td>\n",
       "      <td>321.25</td>\n",
       "      <td>338.91</td>\n",
       "      <td>274.56</td>\n",
       "      <td>550.08</td>\n",
       "      <td>NaN</td>\n",
       "      <td>NaN</td>\n",
       "      <td>GPC-AUS</td>\n",
       "      <td>2018-10-27</td>\n",
       "      <td>Australia</td>\n",
       "      <td>VIC</td>\n",
       "      <td>Melbourne Cup</td>\n",
       "    </tr>\n",
       "  </tbody>\n",
       "</table>\n",
       "<p>5 rows × 38 columns</p>\n",
       "</div>"
      ],
      "text/plain": [
       "  LifterID Sex Event Equipment   Age AgeClass BirthYearClass Division  \\\n",
       "0     4126   F   SBD     Wraps  29.0    24-34            NaN     F-OR   \n",
       "1     4140   F   SBD     Wraps  29.0    24-34            NaN     F-OR   \n",
       "2     8808   F     B       Raw  40.0    40-44          40-49     F-OR   \n",
       "3    26706   F   SBD     Wraps  23.0    20-23            NaN     F-OR   \n",
       "4    29357   F   SBD     Wraps  45.0    45-49          40-49     F-OR   \n",
       "\n",
       "   BodyweightKg WeightClassKg  Squat1Kg  Squat2Kg  Squat3Kg  ...  TotalKg  \\\n",
       "0          59.8            60      80.0      92.5     105.0  ...    290.0   \n",
       "1          58.5            60     100.0     110.0     120.0  ...    332.5   \n",
       "2          55.4            56       NaN       NaN       NaN  ...     32.5   \n",
       "3          60.0            60    -105.0    -105.0     105.0  ...    310.0   \n",
       "4         104.0           110     120.0     130.0     140.0  ...    390.0   \n",
       "\n",
       "   Place   Wilks  McCulloch  Glossbrenner  IPFPoints  Tested  Country  \\\n",
       "0      4  324.16     324.16        286.42     511.15     NaN      NaN   \n",
       "1      2  378.07     378.07        334.16     595.65     NaN      NaN   \n",
       "2      1   38.56      38.56         34.12     313.97     NaN      NaN   \n",
       "3      3  345.61     345.61        305.37     547.04     NaN      NaN   \n",
       "4      3  321.25     338.91        274.56     550.08     NaN      NaN   \n",
       "\n",
       "   Federation        Date  MeetCountry  MeetState       MeetName  \n",
       "0     GPC-AUS  2018-10-27    Australia        VIC  Melbourne Cup  \n",
       "1     GPC-AUS  2018-10-27    Australia        VIC  Melbourne Cup  \n",
       "2     GPC-AUS  2018-10-27    Australia        VIC  Melbourne Cup  \n",
       "3     GPC-AUS  2018-10-27    Australia        VIC  Melbourne Cup  \n",
       "4     GPC-AUS  2018-10-27    Australia        VIC  Melbourne Cup  \n",
       "\n",
       "[5 rows x 38 columns]"
      ]
     },
     "execution_count": 3,
     "metadata": {},
     "output_type": "execute_result"
    }
   ],
   "source": [
    "df.Name = df.Name.astype('category').cat.rename_categories(range(1, df.Name.nunique()+1))\n",
    "df.rename(columns={'Name': 'LifterID'}, inplace=True)\n",
    "pd.set_option('display.max_columns', 27)\n",
    "df.head()"
   ]
  },
  {
   "cell_type": "markdown",
   "metadata": {},
   "source": [
    "**2.** Replace negative values (failed lifts) with NaNs, because they are not relevant for this project"
   ]
  },
  {
   "cell_type": "code",
   "execution_count": 4,
   "metadata": {},
   "outputs": [
    {
     "name": "stderr",
     "output_type": "stream",
     "text": [
      "C:\\ProgramData\\Anaconda3\\lib\\site-packages\\ipykernel_launcher.py:1: SettingWithCopyWarning: \n",
      "A value is trying to be set on a copy of a slice from a DataFrame\n",
      "\n",
      "See the caveats in the documentation: http://pandas.pydata.org/pandas-docs/stable/user_guide/indexing.html#returning-a-view-versus-a-copy\n",
      "  \"\"\"Entry point for launching an IPython kernel.\n",
      "C:\\ProgramData\\Anaconda3\\lib\\site-packages\\ipykernel_launcher.py:2: SettingWithCopyWarning: \n",
      "A value is trying to be set on a copy of a slice from a DataFrame\n",
      "\n",
      "See the caveats in the documentation: http://pandas.pydata.org/pandas-docs/stable/user_guide/indexing.html#returning-a-view-versus-a-copy\n",
      "  \n",
      "C:\\ProgramData\\Anaconda3\\lib\\site-packages\\ipykernel_launcher.py:3: SettingWithCopyWarning: \n",
      "A value is trying to be set on a copy of a slice from a DataFrame\n",
      "\n",
      "See the caveats in the documentation: http://pandas.pydata.org/pandas-docs/stable/user_guide/indexing.html#returning-a-view-versus-a-copy\n",
      "  This is separate from the ipykernel package so we can avoid doing imports until\n"
     ]
    }
   ],
   "source": [
    "df['Best3SquatKg'][(df['Best3SquatKg']<0)==True] = np.nan\n",
    "df['Best3BenchKg'][(df['Best3BenchKg']<0)==True] = np.nan\n",
    "df['Best3DeadliftKg'][(df['Best3DeadliftKg']<0)==True] = np.nan"
   ]
  },
  {
   "cell_type": "markdown",
   "metadata": {},
   "source": [
    "## Question 1: Where is powerlifting (outside USA) most popular?"
   ]
  },
  {
   "cell_type": "code",
   "execution_count": 5,
   "metadata": {},
   "outputs": [
    {
     "data": {
      "text/html": [
       "<div>\n",
       "<style scoped>\n",
       "    .dataframe tbody tr th:only-of-type {\n",
       "        vertical-align: middle;\n",
       "    }\n",
       "\n",
       "    .dataframe tbody tr th {\n",
       "        vertical-align: top;\n",
       "    }\n",
       "\n",
       "    .dataframe thead th {\n",
       "        text-align: right;\n",
       "    }\n",
       "</style>\n",
       "<table border=\"1\" class=\"dataframe\">\n",
       "  <thead>\n",
       "    <tr style=\"text-align: right;\">\n",
       "      <th></th>\n",
       "      <th>MeetCountry</th>\n",
       "    </tr>\n",
       "  </thead>\n",
       "  <tbody>\n",
       "    <tr>\n",
       "      <td>Australia</td>\n",
       "      <td>931</td>\n",
       "    </tr>\n",
       "    <tr>\n",
       "      <td>Canada</td>\n",
       "      <td>827</td>\n",
       "    </tr>\n",
       "    <tr>\n",
       "      <td>Russia</td>\n",
       "      <td>757</td>\n",
       "    </tr>\n",
       "    <tr>\n",
       "      <td>Sweden</td>\n",
       "      <td>482</td>\n",
       "    </tr>\n",
       "    <tr>\n",
       "      <td>Norway</td>\n",
       "      <td>429</td>\n",
       "    </tr>\n",
       "  </tbody>\n",
       "</table>\n",
       "</div>"
      ],
      "text/plain": [
       "           MeetCountry\n",
       "Australia          931\n",
       "Canada             827\n",
       "Russia             757\n",
       "Sweden             482\n",
       "Norway             429"
      ]
     },
     "execution_count": 5,
     "metadata": {},
     "output_type": "execute_result"
    }
   ],
   "source": [
    "country = df[['MeetName', 'MeetCountry']].drop_duplicates()\n",
    "country = pd.DataFrame(country['MeetCountry'].value_counts())\n",
    "country = country[country.index!='USA']\n",
    "country.head(5)"
   ]
  },
  {
   "cell_type": "markdown",
   "metadata": {},
   "source": [
    "**1.** Compute the percentage of the top 5 countries"
   ]
  },
  {
   "cell_type": "code",
   "execution_count": 6,
   "metadata": {},
   "outputs": [],
   "source": [
    "sum = country['MeetCountry'].sum()\n",
    "norway = country[country.index=='Norway']['MeetCountry']/sum\n",
    "russia = country[country.index=='Russia']['MeetCountry']/sum\n",
    "canada = country[country.index=='Canada']['MeetCountry']/sum\n",
    "sweden = country[country.index=='Sweden']['MeetCountry']/sum\n",
    "australia = country[country.index=='Australia']['MeetCountry']/sum\n",
    "rest = 1-(norway[0]+russia[0]+canada[0]+sweden[0]+australia[0])"
   ]
  },
  {
   "cell_type": "markdown",
   "metadata": {},
   "source": [
    "**2.** Plot a pie chart with the percentages"
   ]
  },
  {
   "cell_type": "code",
   "execution_count": 7,
   "metadata": {},
   "outputs": [
    {
     "data": {
      "image/png": "[encoded data removed]",
      "text/plain": [
       "<Figure size 432x288 with 1 Axes>"
      ]
     },
     "metadata": {},
     "output_type": "display_data"
    }
   ],
   "source": [
    "labels = 'Australia', 'Canada', 'Russia', 'Sweden', 'Norway', 'Rest'\n",
    "sizes = [australia[0], canada[0], russia[0], sweden[0], norway[0], rest]\n",
    "\n",
    "fig1, ax1 = plt.subplots()\n",
    "ax1.pie(sizes, labels=labels, autopct='%1.1f%%',\n",
    "        shadow=False, startangle=90)\n",
    "ax1.axis('equal')\n",
    "plt.savefig('./plots/country.png')\n",
    "plt.show()"
   ]
  },
  {
   "cell_type": "markdown",
   "metadata": {},
   "source": [
    "**3.** Compute the percentage of the scandinavian countries (Sweden, Norway, Denmark, Finland, Iceland) combined"
   ]
  },
  {
   "cell_type": "code",
   "execution_count": 8,
   "metadata": {},
   "outputs": [
    {
     "name": "stdout",
     "output_type": "stream",
     "text": [
      "22.39\n"
     ]
    }
   ],
   "source": [
    "scandinavia = country[country.index.isin(['Sweden', 'Norway', 'Denmark', 'Finland', 'Iceland'])]\n",
    "sum_scan = scandinavia['MeetCountry'].sum()\n",
    "print(round(sum_scan/sum * 100, 2))"
   ]
  },
  {
   "cell_type": "code",
   "execution_count": 9,
   "metadata": {},
   "outputs": [
    {
     "name": "stdout",
     "output_type": "stream",
     "text": [
      "             Best3SquatKg\n",
      "MeetCountry              \n",
      "UAE                276.40\n",
      "Puerto Rico        241.54\n",
      "Azerbaijan         237.30\n",
      "\n",
      "             Best3BenchKg\n",
      "MeetCountry              \n",
      "Azerbaijan         177.65\n",
      "Tahiti             156.36\n",
      "Egypt              155.30\n",
      "\n",
      "             Best3DeadliftKg\n",
      "MeetCountry                 \n",
      "UAE                   249.64\n",
      "Azerbaijan            236.95\n",
      "Egypt                 236.52\n"
     ]
    }
   ],
   "source": [
    "# Question: In which countries are the best lifters?\n",
    "print(round(df[['MeetCountry', 'Best3SquatKg']].groupby('MeetCountry').mean().sort_values(by='Best3SquatKg', ascending=False).head(3), 2))\n",
    "print()\n",
    "print(round(df[['MeetCountry', 'Best3BenchKg']].groupby('MeetCountry').mean().sort_values(by='Best3BenchKg', ascending=False).head(3), 2))\n",
    "print()\n",
    "print(round(df[['MeetCountry', 'Best3DeadliftKg']].groupby('MeetCountry').mean().sort_values(by='Best3DeadliftKg', ascending=False).head(3), 2))"
   ]
  },
  {
   "cell_type": "markdown",
   "metadata": {},
   "source": [
    "## Question 2: How much do the lifts interfere each other?\n",
    "**1.** Compute the mean of every lift for every event and then compute the difference to the reference (one-lift-only)"
   ]
  },
  {
   "cell_type": "code",
   "execution_count": 10,
   "metadata": {},
   "outputs": [
    {
     "name": "stdout",
     "output_type": "stream",
     "text": [
      "['SBD' 'B' 'BD' 'D' 'SD' 'SB' 'S']\n",
      "\n",
      "Best squat (mean)\n",
      "Squat-only event: 180.09\n",
      "Squat-deadlift event: -34.38\n",
      "Squat-bench event: -15.92\n",
      "Squat-bench-deadlift: -4.28\n",
      "\n",
      "Best bench (mean)\n",
      "Bench-only event: 147.68\n",
      "Bench-deadlift event: -28.72\n",
      "Squat-bench event: -44.22\n",
      "Squat-bench-deadlift event: -36.75\n",
      "\n",
      "Best deadlift (mean)\n",
      "Deadlift-only event: 203.78\n",
      "Squat-deadlift event: -45.08\n",
      "Bench-deadlift event: -12.95\n",
      "Squat-bench-deadlift: -14.91\n"
     ]
    }
   ],
   "source": [
    "# How big is the difference when they do more than one lift?\n",
    "print(df['Event'].unique())\n",
    "print()\n",
    "print('Best squat (mean)')\n",
    "print('Squat-only event:', round(df['Best3SquatKg'][df['Event']=='S'].mean(),2))\n",
    "print('Squat-deadlift event:',\n",
    "      round(df['Best3SquatKg'][df['Event']=='SD'].mean()-df['Best3SquatKg'][df['Event']=='S'].mean(),2))\n",
    "print('Squat-bench event:',\n",
    "      round(df['Best3SquatKg'][df['Event']=='SB'].mean()-df['Best3SquatKg'][df['Event']=='S'].mean(),2))\n",
    "print('Squat-bench-deadlift:',\n",
    "      round(df['Best3SquatKg'][df['Event']=='SBD'].mean()-df['Best3SquatKg'][df['Event']=='S'].mean(),2))\n",
    "\n",
    "print()\n",
    "print('Best bench (mean)')\n",
    "print('Bench-only event:', round(df['Best3BenchKg'][df['Event']=='B'].mean(),2))\n",
    "print('Bench-deadlift event:',\n",
    "      round(df['Best3BenchKg'][df['Event']=='BD'].mean()-df['Best3BenchKg'][df['Event']=='B'].mean(),2))\n",
    "print('Squat-bench event:',\n",
    "      round(df['Best3BenchKg'][df['Event']=='SB'].mean()-df['Best3BenchKg'][df['Event']=='B'].mean(),2))\n",
    "print('Squat-bench-deadlift event:',\n",
    "      round(df['Best3BenchKg'][df['Event']=='SBD'].mean()-df['Best3BenchKg'][df['Event']=='B'].mean(),2))\n",
    "\n",
    "print()\n",
    "print('Best deadlift (mean)')\n",
    "print('Deadlift-only event:', round(df['Best3DeadliftKg'][df['Event']=='D'].mean(),2))\n",
    "print('Squat-deadlift event:',\n",
    "      round(df['Best3DeadliftKg'][df['Event']=='SD'].mean()-df['Best3DeadliftKg'][df['Event']=='D'].mean(),2))\n",
    "print('Bench-deadlift event:',\n",
    "      round(df['Best3DeadliftKg'][df['Event']=='BD'].mean()-df['Best3DeadliftKg'][df['Event']=='D'].mean(),2))\n",
    "print('Squat-bench-deadlift:',\n",
    "      round(df['Best3DeadliftKg'][df['Event']=='SBD'].mean()-df['Best3DeadliftKg'][df['Event']=='D'].mean(),2))"
   ]
  },
  {
   "cell_type": "markdown",
   "metadata": {},
   "source": [
    "**2.** Isolate the mean of the lifts from the rest to get an overview of the absolute numbers "
   ]
  },
  {
   "cell_type": "code",
   "execution_count": 11,
   "metadata": {},
   "outputs": [
    {
     "data": {
      "text/html": [
       "<div>\n",
       "<style scoped>\n",
       "    .dataframe tbody tr th:only-of-type {\n",
       "        vertical-align: middle;\n",
       "    }\n",
       "\n",
       "    .dataframe tbody tr th {\n",
       "        vertical-align: top;\n",
       "    }\n",
       "\n",
       "    .dataframe thead th {\n",
       "        text-align: right;\n",
       "    }\n",
       "</style>\n",
       "<table border=\"1\" class=\"dataframe\">\n",
       "  <thead>\n",
       "    <tr style=\"text-align: right;\">\n",
       "      <th></th>\n",
       "      <th>Best3SquatKg</th>\n",
       "      <th>Best3BenchKg</th>\n",
       "      <th>Best3DeadliftKg</th>\n",
       "    </tr>\n",
       "    <tr>\n",
       "      <th>Event</th>\n",
       "      <th></th>\n",
       "      <th></th>\n",
       "      <th></th>\n",
       "    </tr>\n",
       "  </thead>\n",
       "  <tbody>\n",
       "    <tr>\n",
       "      <td>B</td>\n",
       "      <td>NaN</td>\n",
       "      <td>147.675499</td>\n",
       "      <td>NaN</td>\n",
       "    </tr>\n",
       "    <tr>\n",
       "      <td>BD</td>\n",
       "      <td>NaN</td>\n",
       "      <td>118.954378</td>\n",
       "      <td>190.832151</td>\n",
       "    </tr>\n",
       "    <tr>\n",
       "      <td>D</td>\n",
       "      <td>NaN</td>\n",
       "      <td>NaN</td>\n",
       "      <td>203.779556</td>\n",
       "    </tr>\n",
       "    <tr>\n",
       "      <td>S</td>\n",
       "      <td>180.093454</td>\n",
       "      <td>NaN</td>\n",
       "      <td>NaN</td>\n",
       "    </tr>\n",
       "    <tr>\n",
       "      <td>SB</td>\n",
       "      <td>164.170360</td>\n",
       "      <td>103.457569</td>\n",
       "      <td>NaN</td>\n",
       "    </tr>\n",
       "    <tr>\n",
       "      <td>SBD</td>\n",
       "      <td>175.814769</td>\n",
       "      <td>110.924350</td>\n",
       "      <td>188.872835</td>\n",
       "    </tr>\n",
       "    <tr>\n",
       "      <td>SD</td>\n",
       "      <td>145.716976</td>\n",
       "      <td>NaN</td>\n",
       "      <td>158.695298</td>\n",
       "    </tr>\n",
       "  </tbody>\n",
       "</table>\n",
       "</div>"
      ],
      "text/plain": [
       "       Best3SquatKg  Best3BenchKg  Best3DeadliftKg\n",
       "Event                                             \n",
       "B               NaN    147.675499              NaN\n",
       "BD              NaN    118.954378       190.832151\n",
       "D               NaN           NaN       203.779556\n",
       "S        180.093454           NaN              NaN\n",
       "SB       164.170360    103.457569              NaN\n",
       "SBD      175.814769    110.924350       188.872835\n",
       "SD       145.716976           NaN       158.695298"
      ]
     },
     "execution_count": 11,
     "metadata": {},
     "output_type": "execute_result"
    }
   ],
   "source": [
    "lifts = df[['Event', 'Best3SquatKg', 'Best3BenchKg', 'Best3DeadliftKg']]\n",
    "lifts = lifts.groupby('Event').mean()\n",
    "lifts.head(10)"
   ]
  },
  {
   "cell_type": "markdown",
   "metadata": {},
   "source": [
    "**3.** Drop the NaNs and plot the means in bar plots"
   ]
  },
  {
   "cell_type": "code",
   "execution_count": 12,
   "metadata": {},
   "outputs": [],
   "source": [
    "squat = pd.DataFrame(lifts.dropna(subset=['Best3SquatKg'], axis=0)['Best3SquatKg'])\n",
    "squat.sort_values(by=['Best3SquatKg'], inplace=True, ascending=False)\n",
    "\n",
    "bench = pd.DataFrame(lifts.dropna(subset=['Best3BenchKg'], axis=0)['Best3BenchKg'])\n",
    "bench.sort_values(by=['Best3BenchKg'], inplace=True, ascending=False)\n",
    "\n",
    "deadlift = pd.DataFrame(lifts.dropna(subset=['Best3DeadliftKg'], axis=0)['Best3DeadliftKg'])\n",
    "deadlift.sort_values(by=['Best3DeadliftKg'], inplace=True, ascending=False)"
   ]
  },
  {
   "cell_type": "markdown",
   "metadata": {},
   "source": [
    "**3.1** Best squat"
   ]
  },
  {
   "cell_type": "code",
   "execution_count": 14,
   "metadata": {},
   "outputs": [
    {
     "data": {
      "image/png": "[encoded data removed]",
      "text/plain": [
       "<Figure size 216x360 with 1 Axes>"
      ]
     },
     "metadata": {
      "needs_background": "light"
     },
     "output_type": "display_data"
    }
   ],
   "source": [
    "height = squat['Best3SquatKg']\n",
    "bars = squat.index\n",
    "y_pos = np.arange(len(bars))\n",
    "\n",
    "plt.bar(y_pos, height)\n",
    "plt.xticks(y_pos, bars)\n",
    "plt.ylim([0, 210])\n",
    "plt.title('Best Squat (mean)')\n",
    "plt.xlabel('Event')\n",
    "plt.rcParams[\"figure.figsize\"] = (3,5)\n",
    "plt.savefig('./plots/squat.png')\n",
    "plt.show()"
   ]
  },
  {
   "cell_type": "markdown",
   "metadata": {},
   "source": [
    "**3.2** Best benchpress"
   ]
  },
  {
   "cell_type": "code",
   "execution_count": 16,
   "metadata": {},
   "outputs": [
    {
     "data": {
      "image/png": "[encoded data removed]",
      "text/plain": [
       "<Figure size 216x360 with 1 Axes>"
      ]
     },
     "metadata": {
      "needs_background": "light"
     },
     "output_type": "display_data"
    }
   ],
   "source": [
    "height = bench['Best3BenchKg']\n",
    "bars = bench.index\n",
    "y_pos = np.arange(len(bars))\n",
    "\n",
    "plt.bar(y_pos, height)\n",
    "plt.xticks(y_pos, bars)\n",
    "plt.ylim([0, 210])\n",
    "plt.title('Best Benchpress (mean)')\n",
    "plt.xlabel('Event')\n",
    "plt.rcParams[\"figure.figsize\"] = (3,5)\n",
    "plt.savefig('./plots/bench.png')\n",
    "plt.show()"
   ]
  },
  {
   "cell_type": "markdown",
   "metadata": {},
   "source": [
    "**3.3** Best deadlift"
   ]
  },
  {
   "cell_type": "code",
   "execution_count": 18,
   "metadata": {},
   "outputs": [
    {
     "data": {
      "image/png": "[encoded data removed]",
      "text/plain": [
       "<Figure size 216x360 with 1 Axes>"
      ]
     },
     "metadata": {
      "needs_background": "light"
     },
     "output_type": "display_data"
    }
   ],
   "source": [
    "height = deadlift['Best3DeadliftKg']\n",
    "bars = deadlift.index\n",
    "y_pos = np.arange(len(bars))\n",
    "\n",
    "plt.bar(y_pos, height)\n",
    "plt.xticks(y_pos, bars)\n",
    "plt.ylim([0, 210])\n",
    "plt.title('Best Deadlift (mean)')\n",
    "plt.xlabel('Event')\n",
    "plt.rcParams[\"figure.figsize\"] = (3,5)\n",
    "plt.savefig('./plots/deadlift.png')\n",
    "plt.show()"
   ]
  },
  {
   "cell_type": "markdown",
   "metadata": {},
   "source": [
    "## Question 3: How much can you deadlift?\n",
    "To answer this question the last lift (deadlift) on a SBD-Event (classical powerlifting event) will be predicted"
   ]
  },
  {
   "cell_type": "markdown",
   "metadata": {},
   "source": [
    "**1.** Use only the best squat and benchpress for the prediction<br/>\n",
    "**1.1** Prepare data for ML-models"
   ]
  },
  {
   "cell_type": "code",
   "execution_count": 19,
   "metadata": {},
   "outputs": [
    {
     "name": "stdout",
     "output_type": "stream",
     "text": [
      "(811367, 2)\n",
      "(347730, 2)\n"
     ]
    }
   ],
   "source": [
    "# Separate the columns of interest from the rest\n",
    "# Drop missing values because ML-models cannot use them\n",
    "pred_df1 = df[['Best3SquatKg', 'Best3BenchKg', 'Best3DeadliftKg']]\n",
    "pred_df1 = pred_df1.dropna()\n",
    "\n",
    "# Divide pred_df into features (X) and labels (y)\n",
    "y1 = pred_df1['Best3DeadliftKg']\n",
    "X1 = pred_df1[['Best3SquatKg', 'Best3BenchKg']]\n",
    "\n",
    "# Divide features and labels into training and testing data\n",
    "X1_train, X1_test, y1_train, y1_test = train_test_split(X1, y1, test_size=0.3, random_state=42)\n",
    "print(X1_train.shape)\n",
    "print(X1_test.shape)"
   ]
  },
  {
   "cell_type": "markdown",
   "metadata": {},
   "source": [
    "**1.2** Train models"
   ]
  },
  {
   "cell_type": "code",
   "execution_count": 20,
   "metadata": {},
   "outputs": [
    {
     "data": {
      "text/plain": [
       "RandomForestRegressor(bootstrap=True, criterion='mse', max_depth=None,\n",
       "                      max_features='auto', max_leaf_nodes=None,\n",
       "                      min_impurity_decrease=0.0, min_impurity_split=None,\n",
       "                      min_samples_leaf=1, min_samples_split=2,\n",
       "                      min_weight_fraction_leaf=0.0, n_estimators=100,\n",
       "                      n_jobs=None, oob_score=False, random_state=42, verbose=0,\n",
       "                      warm_start=False)"
      ]
     },
     "execution_count": 20,
     "metadata": {},
     "output_type": "execute_result"
    }
   ],
   "source": [
    "# Linear model\n",
    "lm1 = LinearRegression()\n",
    "lm1.fit(X1_train, y1_train)\n",
    "\n",
    "# Decision tree\n",
    "seed = 42\n",
    "tree1 = DecisionTreeRegressor(random_state=seed)\n",
    "tree1.fit(X1_train, y1_train)\n",
    "\n",
    "# Random forest\n",
    "seed = 42\n",
    "trees = 100\n",
    "rf1 = RandomForestRegressor(n_estimators=trees, random_state=seed)\n",
    "rf1.fit(X1_train, y1_train)"
   ]
  },
  {
   "cell_type": "markdown",
   "metadata": {},
   "source": [
    "**1.3** Predict test data with fitted models"
   ]
  },
  {
   "cell_type": "code",
   "execution_count": 21,
   "metadata": {},
   "outputs": [],
   "source": [
    "# Linear model\n",
    "yhat_lm1 = lm1.predict(X1_test)\n",
    "r2_lm1 = r2_score(y1_test, yhat_lm1)\n",
    "\n",
    "# Decision tree\n",
    "yhat_tree1 = tree1.predict(X1_test)\n",
    "r2_tree1 = r2_score(y1_test, yhat_tree1)\n",
    "\n",
    "# Random forest\n",
    "yhat_rf1 = rf1.predict(X1_test)\n",
    "r2_rf1 = r2_score(y1_test, yhat_rf1)"
   ]
  },
  {
   "cell_type": "markdown",
   "metadata": {},
   "source": [
    "**2.** Include some categorical variables (sex, equipment)<br/>\n",
    "**2.1** Prepare data for ML-models"
   ]
  },
  {
   "cell_type": "code",
   "execution_count": 22,
   "metadata": {
    "scrolled": true
   },
   "outputs": [
    {
     "name": "stdout",
     "output_type": "stream",
     "text": [
      "(811367, 9)\n",
      "(347730, 9)\n"
     ]
    },
    {
     "data": {
      "text/html": [
       "<div>\n",
       "<style scoped>\n",
       "    .dataframe tbody tr th:only-of-type {\n",
       "        vertical-align: middle;\n",
       "    }\n",
       "\n",
       "    .dataframe tbody tr th {\n",
       "        vertical-align: top;\n",
       "    }\n",
       "\n",
       "    .dataframe thead th {\n",
       "        text-align: right;\n",
       "    }\n",
       "</style>\n",
       "<table border=\"1\" class=\"dataframe\">\n",
       "  <thead>\n",
       "    <tr style=\"text-align: right;\">\n",
       "      <th></th>\n",
       "      <th>Best3SquatKg</th>\n",
       "      <th>Best3BenchKg</th>\n",
       "      <th>F</th>\n",
       "      <th>M</th>\n",
       "      <th>Mx</th>\n",
       "      <th>Multi-ply</th>\n",
       "      <th>Raw</th>\n",
       "      <th>Single-ply</th>\n",
       "      <th>Wraps</th>\n",
       "    </tr>\n",
       "  </thead>\n",
       "  <tbody>\n",
       "    <tr>\n",
       "      <td>0</td>\n",
       "      <td>105.0</td>\n",
       "      <td>55.0</td>\n",
       "      <td>1</td>\n",
       "      <td>0</td>\n",
       "      <td>0</td>\n",
       "      <td>0</td>\n",
       "      <td>0</td>\n",
       "      <td>0</td>\n",
       "      <td>1</td>\n",
       "    </tr>\n",
       "    <tr>\n",
       "      <td>1</td>\n",
       "      <td>120.0</td>\n",
       "      <td>67.5</td>\n",
       "      <td>1</td>\n",
       "      <td>0</td>\n",
       "      <td>0</td>\n",
       "      <td>0</td>\n",
       "      <td>0</td>\n",
       "      <td>0</td>\n",
       "      <td>1</td>\n",
       "    </tr>\n",
       "    <tr>\n",
       "      <td>3</td>\n",
       "      <td>105.0</td>\n",
       "      <td>72.5</td>\n",
       "      <td>1</td>\n",
       "      <td>0</td>\n",
       "      <td>0</td>\n",
       "      <td>0</td>\n",
       "      <td>0</td>\n",
       "      <td>0</td>\n",
       "      <td>1</td>\n",
       "    </tr>\n",
       "    <tr>\n",
       "      <td>4</td>\n",
       "      <td>140.0</td>\n",
       "      <td>80.0</td>\n",
       "      <td>1</td>\n",
       "      <td>0</td>\n",
       "      <td>0</td>\n",
       "      <td>0</td>\n",
       "      <td>0</td>\n",
       "      <td>0</td>\n",
       "      <td>1</td>\n",
       "    </tr>\n",
       "    <tr>\n",
       "      <td>5</td>\n",
       "      <td>142.5</td>\n",
       "      <td>82.5</td>\n",
       "      <td>1</td>\n",
       "      <td>0</td>\n",
       "      <td>0</td>\n",
       "      <td>0</td>\n",
       "      <td>0</td>\n",
       "      <td>0</td>\n",
       "      <td>1</td>\n",
       "    </tr>\n",
       "  </tbody>\n",
       "</table>\n",
       "</div>"
      ],
      "text/plain": [
       "   Best3SquatKg  Best3BenchKg  F  M  Mx  Multi-ply  Raw  Single-ply  Wraps\n",
       "0         105.0          55.0  1  0   0          0    0           0      1\n",
       "1         120.0          67.5  1  0   0          0    0           0      1\n",
       "3         105.0          72.5  1  0   0          0    0           0      1\n",
       "4         140.0          80.0  1  0   0          0    0           0      1\n",
       "5         142.5          82.5  1  0   0          0    0           0      1"
      ]
     },
     "execution_count": 22,
     "metadata": {},
     "output_type": "execute_result"
    }
   ],
   "source": [
    "# Separate the columns of interest from the rest\n",
    "# Drop missing values because ML-models cannot use them\n",
    "pred_df2 = df[['Best3SquatKg', 'Best3BenchKg', 'Best3DeadliftKg', 'Sex', 'Equipment']]\n",
    "pred_df2 = pred_df2.dropna()\n",
    "\n",
    "# Divide pred_df into features (X) and labels (y)\n",
    "y2 = pred_df2['Best3DeadliftKg']\n",
    "X2 = pred_df2[['Best3SquatKg', 'Best3BenchKg', 'Sex', 'Equipment']]\n",
    "\n",
    "# Create dummies for categorical features, because they have more than two categories\n",
    "sex_dummy = pd.get_dummies(X2['Sex']) \n",
    "equip_dummy = pd.get_dummies(X2['Equipment'])\n",
    "X2 = X2.merge(sex_dummy, left_index=True, right_index=True)\n",
    "X2 = X2.merge(equip_dummy, left_index=True, right_index=True)\n",
    "X2 = X2.loc[:, X2.columns != 'Sex']\n",
    "X2 = X2.loc[:, X2.columns != 'Equipment']\n",
    "\n",
    "# Divide features and labels into training and testing data\n",
    "X2_train, X2_test, y2_train, y2_test = train_test_split(X2, y2, test_size=0.3, random_state=42)\n",
    "print(X2_train.shape)\n",
    "print(X2_test.shape)\n",
    "X2.head()"
   ]
  },
  {
   "cell_type": "markdown",
   "metadata": {},
   "source": [
    "**2.2** Train models"
   ]
  },
  {
   "cell_type": "code",
   "execution_count": 23,
   "metadata": {},
   "outputs": [
    {
     "data": {
      "text/plain": [
       "RandomForestRegressor(bootstrap=True, criterion='mse', max_depth=None,\n",
       "                      max_features='auto', max_leaf_nodes=None,\n",
       "                      min_impurity_decrease=0.0, min_impurity_split=None,\n",
       "                      min_samples_leaf=1, min_samples_split=2,\n",
       "                      min_weight_fraction_leaf=0.0, n_estimators=100,\n",
       "                      n_jobs=None, oob_score=False, random_state=42, verbose=0,\n",
       "                      warm_start=False)"
      ]
     },
     "execution_count": 23,
     "metadata": {},
     "output_type": "execute_result"
    }
   ],
   "source": [
    "# Linear model\n",
    "lm2 = LinearRegression()\n",
    "lm2.fit(X2_train, y2_train)\n",
    "\n",
    "# Decision tree\n",
    "seed = 42\n",
    "tree2 = DecisionTreeRegressor(random_state=seed)\n",
    "tree2.fit(X2_train, y2_train)\n",
    "\n",
    "# Random forest\n",
    "seed = 42\n",
    "trees = 100\n",
    "rf2 = RandomForestRegressor(n_estimators=trees, random_state=seed)\n",
    "rf2.fit(X2_train, y2_train)"
   ]
  },
  {
   "cell_type": "markdown",
   "metadata": {},
   "source": [
    "**2.3** Predict test data with fitted models"
   ]
  },
  {
   "cell_type": "code",
   "execution_count": 24,
   "metadata": {},
   "outputs": [],
   "source": [
    "# Linear model\n",
    "yhat_lm2 = lm2.predict(X2_test)\n",
    "r2_lm2 = r2_score(y2_test, yhat_lm2)\n",
    "\n",
    "# Decision tree\n",
    "yhat_tree2 = tree2.predict(X2_test)\n",
    "r2_tree2 = r2_score(y2_test, yhat_tree2)\n",
    "\n",
    "# Random forest\n",
    "yhat_rf2 = rf2.predict(X2_test)\n",
    "r2_rf2 = r2_score(y2_test, yhat_rf2)"
   ]
  },
  {
   "cell_type": "markdown",
   "metadata": {},
   "source": [
    "**3.1** Compare rsquared of all models in a plot"
   ]
  },
  {
   "cell_type": "code",
   "execution_count": 26,
   "metadata": {},
   "outputs": [
    {
     "data": {
      "image/png": "[encoded data removed]",
      "text/plain": [
       "<Figure size 432x504 with 1 Axes>"
      ]
     },
     "metadata": {
      "needs_background": "light"
     },
     "output_type": "display_data"
    }
   ],
   "source": [
    "xs=['Linear Model', 'Decision Tree', 'Random Forest']\n",
    "y1s=[r2_lm1, r2_tree1, r2_rf1]\n",
    "y2s=[r2_lm2, r2_tree2, r2_rf2]\n",
    "\n",
    "plt.scatter(xs,y1s)\n",
    "plt.plot(xs, y1s, label='without categorical')\n",
    "plt.scatter(xs,y2s)\n",
    "plt.plot(xs, y2s, label='with categorical')\n",
    "\n",
    "# Add values to points\n",
    "for x,y in zip(xs,y1s):\n",
    "    label = \"{:.4f}\".format(y)\n",
    "    plt.annotate(label, (x,y), textcoords=\"offset points\", xytext=(0,10), ha='center') \n",
    "\n",
    "for x,y in zip(xs,y2s):\n",
    "    label = \"{:.4f}\".format(y)\n",
    "    plt.annotate(label, (x,y), textcoords=\"offset points\", xytext=(0,10), ha='center') \n",
    "    \n",
    "plt.ylabel('R-Squared')\n",
    "plt.legend()\n",
    "plt.rcParams[\"figure.figsize\"] = (6,7)\n",
    "plt.savefig('./plots/rsquared.png')\n",
    "plt.show()"
   ]
  },
  {
   "cell_type": "markdown",
   "metadata": {},
   "source": [
    "**3.2** Compare rmse of all models in a plot"
   ]
  },
  {
   "cell_type": "code",
   "execution_count": 28,
   "metadata": {
    "scrolled": false
   },
   "outputs": [
    {
     "data": {
      "image/png": "[encoded data removed]",
      "text/plain": [
       "<Figure size 432x504 with 1 Axes>"
      ]
     },
     "metadata": {
      "needs_background": "light"
     },
     "output_type": "display_data"
    }
   ],
   "source": [
    "# Linear model\n",
    "rmse_lm1 = math.sqrt(mean_squared_error(y1_test, yhat_lm1))\n",
    "rmse_lm2 = math.sqrt(mean_squared_error(y2_test, yhat_lm2))\n",
    "\n",
    "# Decision tree\n",
    "rmse_tree1 = math.sqrt(mean_squared_error(y1_test, yhat_tree1))\n",
    "rmse_tree2 = math.sqrt(mean_squared_error(y2_test, yhat_tree2))\n",
    "\n",
    "# Random forest\n",
    "rmse_rf1 = math.sqrt(mean_squared_error(y1_test, yhat_rf1))\n",
    "rmse_rf2 = math.sqrt(mean_squared_error(y2_test, yhat_rf2))\n",
    "\n",
    "xs=['Linear Model', 'Decision Tree', 'Random Forest']\n",
    "y1s=[rmse_lm1, rmse_tree1, rmse_rf1]\n",
    "y2s=[rmse_lm2, rmse_tree2, rmse_rf2]\n",
    "\n",
    "plt.scatter(xs,y1s)\n",
    "plt.plot(xs, y1s, label='without categorical')\n",
    "plt.scatter(xs,y2s)\n",
    "plt.plot(xs, y2s, label='with categorical')\n",
    "\n",
    "# Add values to points\n",
    "for x,y in zip(xs,y1s):\n",
    "    label = \"{:.4f}\".format(y)\n",
    "    plt.annotate(label, (x,y), textcoords=\"offset points\", xytext=(0,10), ha='center')\n",
    "\n",
    "for x,y in zip(xs,y2s):\n",
    "    label = \"{:.4f}\".format(y)\n",
    "    plt.annotate(label, (x,y), textcoords=\"offset points\", xytext=(0,10), ha='center') \n",
    "    \n",
    "plt.ylabel('MSE')\n",
    "plt.legend()\n",
    "plt.rcParams[\"figure.figsize\"] = (6,7)\n",
    "plt.savefig('./plots/rmse.png')\n",
    "plt.show()"
   ]
  },
  {
   "cell_type": "markdown",
   "metadata": {},
   "source": [
    "## How much can I deadlift?"
   ]
  },
  {
   "cell_type": "code",
   "execution_count": 29,
   "metadata": {},
   "outputs": [
    {
     "name": "stdout",
     "output_type": "stream",
     "text": [
      "[196.5128834]\n"
     ]
    }
   ],
   "source": [
    "myself = {'Best3SquatKg': [150.0], 'Best3BenchKg': [130.0], 'F': [0], 'M': [1], 'Mx': [0],\n",
    "          'Multi-ply': [0], 'Raw': [1], 'Single-ply': [0], 'Wraps': [0]}\n",
    "myself = pd.DataFrame(data=myself)\n",
    "yhat = rf2.predict(myself)\n",
    "print(yhat)"
   ]
  }
 ],
 "metadata": {
  "kernelspec": {
   "display_name": "Python 3",
   "language": "python",
   "name": "python3"
  },
  "language_info": {
   "codemirror_mode": {
    "name": "ipython",
    "version": 3
   },
   "file_extension": ".py",
   "mimetype": "text/x-python",
   "name": "python",
   "nbconvert_exporter": "python",
   "pygments_lexer": "ipython3",
   "version": "3.7.4"
  }
 },
 "nbformat": 4,
 "nbformat_minor": 2
}
